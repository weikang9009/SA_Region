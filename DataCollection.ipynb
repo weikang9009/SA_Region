{
 "cells": [
  {
   "cell_type": "markdown",
   "id": "030a1ef9-d810-4ca5-a454-89082b1e5a09",
   "metadata": {},
   "source": [
    "# Data Collection and Preprocessing\n",
    "\n",
    "* Attribute data: 2017–2022 American Community Survey (ACS) 5-year estimates at the census tract level for the City of Riverside, California\n",
    "* Geometry data: polygons for census tracts from Census bureau's TIGER/Line Shapefiles"
   ]
  },
  {
   "cell_type": "code",
   "execution_count": 1,
   "id": "3b2f00dc-a936-466e-ae86-d5bbfcc2be2a",
   "metadata": {},
   "outputs": [],
   "source": [
    "import json\n",
    "import requests\n",
    "import pandas as pd\n",
    "import matplotlib.pyplot as plt\n",
    "%matplotlib inline\n",
    "import geopandas as gpd\n",
    "import seaborn as sns\n",
    "import numpy as np"
   ]
  },
  {
   "cell_type": "markdown",
   "id": "aed96fbc-0f23-494e-9b78-47a5242d87fc",
   "metadata": {},
   "source": [
    "## Use Census API to query attributes of interest from 2017-2022 ACS 5-year estimates\n",
    "\n",
    "You will need to request a U.S. Census Data API Key in order to use the Census API to access the ACS data. Sign up for an API key using this [link](https://api.census.gov/data/key_signup.html)."
   ]
  },
  {
   "cell_type": "code",
   "execution_count": 2,
   "id": "a640d5d3-0207-48eb-924f-047e8040b421",
   "metadata": {},
   "outputs": [],
   "source": [
    "key_api = \"XXXXXXXXXXXXXXXXXXXXXXXXXXXXXXXXXXXXXXXX\" #your requested Census Data API Key (should be a string type)\n",
    "url_B = \"https://api.census.gov/data/2022/acs/acs5?get=%s&for=tract:*&in=state:06&in=county:065,071&key=\"+ key_api"
   ]
  },
  {
   "cell_type": "code",
   "execution_count": 3,
   "id": "cc37edb7-d574-4a9f-9502-4b4c53ba8562",
   "metadata": {},
   "outputs": [
    {
     "data": {
      "text/html": [
       "<div>\n",
       "<style scoped>\n",
       "    .dataframe tbody tr th:only-of-type {\n",
       "        vertical-align: middle;\n",
       "    }\n",
       "\n",
       "    .dataframe tbody tr th {\n",
       "        vertical-align: top;\n",
       "    }\n",
       "\n",
       "    .dataframe thead th {\n",
       "        text-align: right;\n",
       "    }\n",
       "</style>\n",
       "<table border=\"1\" class=\"dataframe\">\n",
       "  <thead>\n",
       "    <tr style=\"text-align: right;\">\n",
       "      <th></th>\n",
       "      <th>AllC</th>\n",
       "      <th>All30C</th>\n",
       "      <th>All30P</th>\n",
       "    </tr>\n",
       "    <tr>\n",
       "      <th>GEOID</th>\n",
       "      <th></th>\n",
       "      <th></th>\n",
       "      <th></th>\n",
       "    </tr>\n",
       "  </thead>\n",
       "  <tbody>\n",
       "    <tr>\n",
       "      <th>06065030101</th>\n",
       "      <td>299</td>\n",
       "      <td>142</td>\n",
       "      <td>0.475</td>\n",
       "    </tr>\n",
       "    <tr>\n",
       "      <th>06065030103</th>\n",
       "      <td>572</td>\n",
       "      <td>218</td>\n",
       "      <td>0.381</td>\n",
       "    </tr>\n",
       "    <tr>\n",
       "      <th>06065030104</th>\n",
       "      <td>1803</td>\n",
       "      <td>691</td>\n",
       "      <td>0.383</td>\n",
       "    </tr>\n",
       "    <tr>\n",
       "      <th>06065030200</th>\n",
       "      <td>1650</td>\n",
       "      <td>489</td>\n",
       "      <td>0.296</td>\n",
       "    </tr>\n",
       "    <tr>\n",
       "      <th>06065030300</th>\n",
       "      <td>1577</td>\n",
       "      <td>713</td>\n",
       "      <td>0.452</td>\n",
       "    </tr>\n",
       "  </tbody>\n",
       "</table>\n",
       "</div>"
      ],
      "text/plain": [
       "             AllC  All30C  All30P\n",
       "GEOID                            \n",
       "06065030101   299     142   0.475\n",
       "06065030103   572     218   0.381\n",
       "06065030104  1803     691   0.383\n",
       "06065030200  1650     489   0.296\n",
       "06065030300  1577     713   0.452"
      ]
     },
     "execution_count": 3,
     "metadata": {},
     "output_type": "execute_result"
    }
   ],
   "source": [
    "var_numer_ownerNoM = \"B25140_006E\"\n",
    "var_remove_ownerNoM = \"B25140_009E\"\n",
    "var_deno30_ownerNoM = \"B25140_007E\"\n",
    "\n",
    "var_numer_ownerM = \"B25140_002E\"\n",
    "var_remove_ownerM = \"B25140_005E\"\n",
    "var_deno30_ownerM = \"B25140_003E\"\n",
    "var_numer_renter = \"B25140_010E\"\n",
    "var_remove_renter = \"B25140_013E\"\n",
    "var_deno30_renter = \"B25140_011E\"\n",
    "\n",
    "vars_all=[var_numer_ownerNoM,var_remove_ownerNoM,var_deno30_ownerNoM,\n",
    "                   var_numer_ownerM, var_remove_ownerM,var_deno30_ownerM,\n",
    "                   var_numer_renter,var_remove_renter,var_deno30_renter]\n",
    "var_all = \",\".join(vars_all)\n",
    "r = requests.get(url_B%var_all)\n",
    "content = r.json()\n",
    "df_ACS_emp = pd.DataFrame(np.asarray(content[1:]), columns=content[0])\n",
    "df_ACS_emp[vars_all] = df_ACS_emp[vars_all].astype(float)\n",
    "numer = df_ACS_emp[var_numer_ownerNoM]-df_ACS_emp[var_remove_ownerNoM]+df_ACS_emp[var_numer_ownerM]-df_ACS_emp[var_remove_ownerM]+df_ACS_emp[var_numer_renter]-df_ACS_emp[var_remove_renter]\n",
    "df_ACS_emp[\"AllC\"] = numer.astype(int)\n",
    "#df_ACS_emp = df_ACS_emp.rename(columns = {var_numer:\"Emp2Pop\"})\n",
    "df_ACS_emp[\"All30C\"] = (df_ACS_emp[var_deno30_ownerNoM]+df_ACS_emp[var_deno30_ownerM]+df_ACS_emp[var_deno30_renter]).astype(int)\n",
    "\n",
    "df_ACS_emp[\"All30P\"] = (df_ACS_emp[\"All30C\"]/numer).round(3)\n",
    "\n",
    "df_ACS_emp[\"GEOID\"] = df_ACS_emp.state+df_ACS_emp.county+df_ACS_emp.tract\n",
    "df = df_ACS_emp.drop(columns=[\"state\",\"county\",\"tract\"]+vars_all).set_index(\"GEOID\")\n",
    "\n",
    "#list_df.append(df)\n",
    "df.head()"
   ]
  },
  {
   "cell_type": "markdown",
   "id": "f5888045-30b5-4f0f-8c4e-b3ab147aed4b",
   "metadata": {},
   "source": [
    "### Obtain geometries (polygons) for census tracts and merge them with attribute data"
   ]
  },
  {
   "cell_type": "code",
   "execution_count": 4,
   "id": "faa2c631-43a3-4a68-9598-f020661af371",
   "metadata": {},
   "outputs": [],
   "source": [
    "url = \"https://www2.census.gov/geo/tiger/TIGER2022/TRACT/tl_2022_06_tract.zip\" # all US tracts\n",
    "gdf_CA = gpd.read_file(url) \n",
    "gdf_county = gdf_CA[gdf_CA.COUNTYFP.isin([\"065\"])].set_index(\"GEOID\") #filter tracts in Riverside county\n",
    "gdf_county = gdf_county[[\"geometry\"]].merge(df,right_index=True, left_index=True)\n",
    "\n",
    "url_place = \"https://www2.census.gov/geo/tiger/TIGER2022/PLACE/tl_2022_06_place.zip\" # all US places\n",
    "gdf_place = gpd.read_file(url_place)\n",
    "gdf_place = gdf_place[gdf_place.GEOID==\"0662000\"] #boundary of Riverside city\n",
    "\n",
    "# conduct spatial join to obtain all tracts in Riverside county) that intersect with the boundary of Riverside city\n",
    "gdf_Riverside =  gdf_county.sjoin(gdf_place[[\"geometry\"]]).drop(columns=\"index_right\")\n",
    "\n",
    "# save obtained tracts to a shapefile \n",
    "gdf_Riverside.to_file(\"data/CostBurden_Riverside.shp\")"
   ]
  }
 ],
 "metadata": {
  "kernelspec": {
   "display_name": "Python 3 (ipykernel)",
   "language": "python",
   "name": "python3"
  },
  "language_info": {
   "codemirror_mode": {
    "name": "ipython",
    "version": 3
   },
   "file_extension": ".py",
   "mimetype": "text/x-python",
   "name": "python",
   "nbconvert_exporter": "python",
   "pygments_lexer": "ipython3",
   "version": "3.12.6"
  }
 },
 "nbformat": 4,
 "nbformat_minor": 5
}
