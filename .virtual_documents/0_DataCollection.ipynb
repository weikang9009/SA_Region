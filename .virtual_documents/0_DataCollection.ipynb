


import json
import requests
import pandas as pd
import matplotlib.pyplot as plt
%matplotlib inline
import geopandas as gpd
import seaborn as sns
import numpy as np





key_api = "d0769e49c3514233f5e2c022cbfa79c2ab2c930e"
url_B = "https://api.census.gov/data/2022/acs/acs5?get=%s&for=tract:*&in=state:06&in=county:065,071&key="+ key_api


var_numer_ownerNoM = "B25140_006E"
var_remove_ownerNoM = "B25140_009E"
var_deno30_ownerNoM = "B25140_007E"

var_numer_ownerM = "B25140_002E"
var_remove_ownerM = "B25140_005E"
var_deno30_ownerM = "B25140_003E"
var_numer_renter = "B25140_010E"
var_remove_renter = "B25140_013E"
var_deno30_renter = "B25140_011E"

vars_all=[var_numer_ownerNoM,var_remove_ownerNoM,var_deno30_ownerNoM,
                   var_numer_ownerM, var_remove_ownerM,var_deno30_ownerM,
                   var_numer_renter,var_remove_renter,var_deno30_renter]
var_all = ",".join(vars_all)
r = requests.get(url_B%var_all)
content = r.json()
df_ACS_emp = pd.DataFrame(np.asarray(content[1:]), columns=content[0])
df_ACS_emp[vars_all] = df_ACS_emp[vars_all].astype(float)
numer = df_ACS_emp[var_numer_ownerNoM]-df_ACS_emp[var_remove_ownerNoM]+df_ACS_emp[var_numer_ownerM]-df_ACS_emp[var_remove_ownerM]+df_ACS_emp[var_numer_renter]-df_ACS_emp[var_remove_renter]
df_ACS_emp["AllC"] = numer.astype(int)
#df_ACS_emp = df_ACS_emp.rename(columns = {var_numer:"Emp2Pop"})
df_ACS_emp["All30C"] = (df_ACS_emp[var_deno30_ownerNoM]+df_ACS_emp[var_deno30_ownerM]+df_ACS_emp[var_deno30_renter]).astype(int)

df_ACS_emp["All30P"] = (df_ACS_emp["All30C"]/numer).round(3)

df_ACS_emp["GEOID"] = df_ACS_emp.state+df_ACS_emp.county+df_ACS_emp.tract
df = df_ACS_emp.drop(columns=["state","county","tract"]+vars_all).set_index("GEOID")

#list_df.append(df)
df.head()





url = "https://www2.census.gov/geo/tiger/TIGER2022/TRACT/tl_2022_06_tract.zip"
gdf_CA = gpd.read_file(url)
gdf_county = gdf_CA[gdf_CA.COUNTYFP.isin(["065"])].set_index("GEOID")
gdf_county = gdf_county[["geometry"]].merge(df,right_index=True, left_index=True)

url_place = "https://www2.census.gov/geo/tiger/TIGER2022/PLACE/tl_2022_06_place.zip"
gdf_place = gpd.read_file(url_place)
gdf_place = gdf_place[gdf_place.GEOID=="0662000"] #Riverside city
gdf_Riverside =  gdf_county.sjoin(gdf_place[["geometry"]]).drop(columns="index_right")
gdf_Riverside.to_file("data/CostBurden_Riverside.shp")
